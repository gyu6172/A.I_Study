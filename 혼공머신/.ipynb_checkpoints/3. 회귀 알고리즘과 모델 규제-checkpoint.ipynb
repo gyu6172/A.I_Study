{
 "cells": [
  {
   "cell_type": "markdown",
   "id": "d03e98e8",
   "metadata": {},
   "source": [
    "# 3. 회귀 알고리즘과 모델 규제"
   ]
  },
  {
   "cell_type": "markdown",
   "id": "c71b4768",
   "metadata": {},
   "source": [
    "지도학습은 크게 **분류**와 **회귀**로 나뉜다.  \n",
    "분류는 샘플을 몇 개의 클래스 중 하나로 분류하는 것이다.  \n",
    "회귀는 임의의 어떤 값을 예측하는 문제이다."
   ]
  },
  {
   "cell_type": "markdown",
   "id": "468af69f",
   "metadata": {},
   "source": [
    "농어 무게를 예측하는 모델을 만들어보자. 그러기 위해서는 무게를 정확히 측정한 농어의 샘플이 필요하다.  \n",
    "이 경우 입력데이터는 농어의 길이일 것이고, 출력데이터는 농어의 무게일 것이다.  "
   ]
  },
  {
   "cell_type": "code",
   "execution_count": 1,
   "id": "80fa84ec",
   "metadata": {},
   "outputs": [],
   "source": [
    "import numpy as np\n",
    "perch_length = np.array([8.4, 13.7, 15.0, 16.2, 17.4, 18.0, 18.7, 19.0, 19.6, 20.0, 21.0,\n",
    "       21.0, 21.0, 21.3, 22.0, 22.0, 22.0, 22.0, 22.0, 22.5, 22.5, 22.7,\n",
    "       23.0, 23.5, 24.0, 24.0, 24.6, 25.0, 25.6, 26.5, 27.3, 27.5, 27.5,\n",
    "       27.5, 28.0, 28.7, 30.0, 32.8, 34.5, 35.0, 36.5, 36.0, 37.0, 37.0,\n",
    "       39.0, 39.0, 39.0, 40.0, 40.0, 40.0, 40.0, 42.0, 43.0, 43.0, 43.5,\n",
    "       44.0])\n",
    "perch_weight = np.array([5.9, 32.0, 40.0, 51.5, 70.0, 100.0, 78.0, 80.0, 85.0, 85.0, 110.0,\n",
    "       115.0, 125.0, 130.0, 120.0, 120.0, 130.0, 135.0, 110.0, 130.0,\n",
    "       150.0, 145.0, 150.0, 170.0, 225.0, 145.0, 188.0, 180.0, 197.0,\n",
    "       218.0, 300.0, 260.0, 265.0, 250.0, 250.0, 300.0, 320.0, 514.0,\n",
    "       556.0, 840.0, 685.0, 700.0, 700.0, 690.0, 900.0, 650.0, 820.0,\n",
    "       850.0, 900.0, 1015.0, 820.0, 1100.0, 1000.0, 1100.0, 1000.0,\n",
    "       1000.0])"
   ]
  },
  {
   "cell_type": "markdown",
   "id": "82196ac1",
   "metadata": {},
   "source": [
    "이 데이터를 먼저 시각화 해보자."
   ]
  },
  {
   "cell_type": "code",
   "execution_count": 2,
   "id": "cec7f4f2",
   "metadata": {},
   "outputs": [
    {
     "data": {
      "image/png": "[encoded data removed]",
      "text/plain": [
       "<Figure size 432x288 with 1 Axes>"
      ]
     },
     "metadata": {
      "needs_background": "light"
     },
     "output_type": "display_data"
    }
   ],
   "source": [
    "import matplotlib.pyplot as plt\n",
    "plt.scatter(perch_length, perch_weight)\n",
    "plt.xlabel('length')\n",
    "plt.ylabel('weight')\n",
    "plt.show()"
   ]
  },
  {
   "cell_type": "markdown",
   "id": "6b09c109",
   "metadata": {},
   "source": [
    "데이터를 훈련데이터와 테스트 데이터로 나누어준다."
   ]
  },
  {
   "cell_type": "code",
   "execution_count": 3,
   "id": "6e55b1f8",
   "metadata": {},
   "outputs": [],
   "source": [
    "from sklearn.model_selection import train_test_split\n",
    "train_input, test_input, train_target, test_target = train_test_split(perch_length, perch_weight, random_state=42)"
   ]
  },
  {
   "cell_type": "markdown",
   "id": "a62d83a6",
   "metadata": {},
   "source": [
    "사이킷런에서 사용하는 훈련데이터는 2차원 배열이어야 한다."
   ]
  },
  {
   "cell_type": "code",
   "execution_count": 4,
   "id": "e379862a",
   "metadata": {},
   "outputs": [
    {
     "name": "stdout",
     "output_type": "stream",
     "text": [
      "(42,)\n"
     ]
    }
   ],
   "source": [
    "print(train_input.shape)"
   ]
  },
  {
   "cell_type": "markdown",
   "id": "780b673f",
   "metadata": {},
   "source": [
    "현재 길이가 42인 1차원 배열이다. 이것을 (42,1)의 크기인 2차원배열로 바꿔준다.  \n",
    "reshape함수를 사용하면 배열의 형태를 바꿀 수 있다."
   ]
  },
  {
   "cell_type": "code",
   "execution_count": 5,
   "id": "7eb7bc9a",
   "metadata": {},
   "outputs": [
    {
     "name": "stdout",
     "output_type": "stream",
     "text": [
      "[1 2 3 4 5 6]\n",
      "[[1 2 3]\n",
      " [4 5 6]]\n"
     ]
    }
   ],
   "source": [
    "test_arr = np.array([1,2,3,4,5,6])\n",
    "print(test_arr)    #크기가 6인 1차원 배열\n",
    "test_arr = test_arr.reshape(2,3) \n",
    "print(test_arr)    #크기가 (2,3)인 2차원 배열\n",
    "#지정한 크기가 원본 배열의 원소의 개수와 동일해야 한다."
   ]
  },
  {
   "cell_type": "code",
   "execution_count": 6,
   "id": "53a05159",
   "metadata": {},
   "outputs": [
    {
     "name": "stdout",
     "output_type": "stream",
     "text": [
      "(42, 1)\n",
      "(14, 1)\n"
     ]
    }
   ],
   "source": [
    "train_input = train_input.reshape(-1,1)\n",
    "test_input = test_input.reshape(-1,1)\n",
    "print(train_input.shape)\n",
    "print(test_input.shape)"
   ]
  },
  {
   "cell_type": "markdown",
   "id": "1638ca4c",
   "metadata": {},
   "source": [
    "### K-최근접 이웃 회귀 알고리즘"
   ]
  },
  {
   "cell_type": "markdown",
   "id": "4051dbbe",
   "metadata": {},
   "source": [
    "K-최근접 이웃 분류 알고리즘은 분류하고자 하는 데이터의 클래스를 가장 가까운 n개의 이웃의 클래스 중에서  \n",
    "가장 많은 수의 클래스로 설정하는 알고리즘이다."
   ]
  },
  {
   "cell_type": "markdown",
   "id": "e2a5b3d8",
   "metadata": {},
   "source": [
    "같은 방식으로 K-최근접 이웃 회귀 알고리즘은 예측하고자 하는 데이터를 가장 가까운 n개의 이웃의 평균으로 설정하는 알고리즘이다."
   ]
  },
  {
   "cell_type": "code",
   "execution_count": 7,
   "id": "c42bcceb",
   "metadata": {},
   "outputs": [
    {
     "data": {
      "text/plain": [
       "KNeighborsRegressor()"
      ]
     },
     "execution_count": 7,
     "metadata": {},
     "output_type": "execute_result"
    }
   ],
   "source": [
    "from sklearn.neighbors import KNeighborsRegressor\n",
    "knr = KNeighborsRegressor()\n",
    "\n",
    "knr.fit(train_input, train_target)"
   ]
  },
  {
   "cell_type": "code",
   "execution_count": 8,
   "id": "23977d31",
   "metadata": {},
   "outputs": [
    {
     "name": "stdout",
     "output_type": "stream",
     "text": [
      "0.992809406101064\n"
     ]
    }
   ],
   "source": [
    "print(knr.score(test_input, test_target))"
   ]
  },
  {
   "cell_type": "markdown",
   "id": "56d20600",
   "metadata": {},
   "source": [
    "K-최근접 이웃 예측 알고리즘은 분류 알고리즘과 다른 방식으로 모델을 평가한다.  \n",
    "해당 예측 알고리즘에서 모델을 평가하는데 사용하는 점수를 **결정계수($R^2$)**라고 한다."
   ]
  },
  {
   "cell_type": "markdown",
   "id": "83d7ffa3",
   "metadata": {},
   "source": [
    "$\n",
    "R^2 = 1 - \\frac{(타깃-예측)^2의 합}{(타깃-평균)^2의 합}\n",
    "$"
   ]
  },
  {
   "cell_type": "markdown",
   "id": "82d651a6",
   "metadata": {},
   "source": [
    "# 과대적합 vs 과소적합"
   ]
  },
  {
   "cell_type": "markdown",
   "id": "aabff7c2",
   "metadata": {},
   "source": [
    "위의 모델을 훈련데이터를 사용하여 평가해보자."
   ]
  },
  {
   "cell_type": "code",
   "execution_count": 9,
   "id": "a3fdc73e",
   "metadata": {},
   "outputs": [
    {
     "name": "stdout",
     "output_type": "stream",
     "text": [
      "훈련데이터 결정계수 : 0.9698823289099254\n",
      "테스트 데이터 결정계수 : 0.992809406101064\n"
     ]
    }
   ],
   "source": [
    "print('훈련데이터 결정계수 :', knr.score(train_input, train_target))\n",
    "print('테스트 데이터 결정계수 :', knr.score(test_input, test_target))"
   ]
  },
  {
   "cell_type": "markdown",
   "id": "48e26af2",
   "metadata": {},
   "source": [
    "훈련 세트의 점수보다 테스트 세트의 점수가 더 높게 나왔다.  \n",
    "보통은 훈련 세트의 점수가 더 높다. 왜냐하면 훈련 세트로 모델을 훈련 시켰기 때문에 훈련 데이터에 잘 맞는 모델이 만들어졌을 것이기 때문이다.  "
   ]
  },
  {
   "cell_type": "markdown",
   "id": "2951c994",
   "metadata": {},
   "source": [
    "훈련세트에서는 점수가 좋았지만, 테스트 세트에서 점수가 나쁘다면 모델이 훈련세트에 **과대적합**되었다고 표현한다.  \n",
    "반대로, 테스트세트에서의 점수가 더 좋거나, 훈련 세트와 테스트 세트의 점수 둘 다 나쁘다면 **과소적합**이라고 한다."
   ]
  },
  {
   "cell_type": "markdown",
   "id": "18358088",
   "metadata": {},
   "source": [
    "### 과대적합 해결 방법"
   ]
  },
  {
   "cell_type": "markdown",
   "id": "66667cfc",
   "metadata": {},
   "source": [
    "**과대적합**현상이란, 모델이 훈련 세트에만 잘 맞는 현상이다.  \n",
    "모델이 복잡한 상황에서 훈련 데이터의 개수가 너무 많으면 과대적합이 발생할 수 있다.\n"
   ]
  },
  {
   "cell_type": "markdown",
   "id": "ff2798b7",
   "metadata": {},
   "source": [
    "모델을 단순하게 만들어 훈련데이터에 포함된 정보에 둔감하게 만들거나,  \n",
    "단순하게 훈련 횟수를 줄이면 해결될 수 있다."
   ]
  },
  {
   "cell_type": "markdown",
   "id": "b9dff463",
   "metadata": {},
   "source": [
    "### 과소적합 해결 방법"
   ]
  },
  {
   "cell_type": "markdown",
   "id": "1b9a3a66",
   "metadata": {},
   "source": [
    "**과소적합**현상이란, 모델이 훈련이 덜 되어서 예측을 제대로 하지 못하는 현상을 말한다.  \n",
    "모델이 너무 단순하거나, 훈련 횟수가 너무 적으면 과소적합이 발생할 수 있다."
   ]
  },
  {
   "cell_type": "markdown",
   "id": "004ca57e",
   "metadata": {},
   "source": [
    "모델을 복잡하게 만들어 데이터에 담긴 정보에 더 민감하도록 만들거나,  \n",
    "단순하게 훈련 횟수를 늘리면 해결될 수 있다."
   ]
  },
  {
   "cell_type": "markdown",
   "id": "1a7566d2",
   "metadata": {},
   "source": [
    "K-최근접 이웃 회귀 알고리즘에서는 검사하는 이웃의 수인 n_neighbors의 속성값으로 과소적합을 해결할 수 있다.  \n",
    "이 속성을 줄이면 훈련 세트에 있는 국지적인 패턴에 민감해질 것이고,  \n",
    "반대로 늘리면 데이터 전반에 있는 일반적인 패턴을 따를 것이다."
   ]
  },
  {
   "cell_type": "code",
   "execution_count": 10,
   "id": "a3db8abb",
   "metadata": {},
   "outputs": [
    {
     "name": "stdout",
     "output_type": "stream",
     "text": [
      "훈련데이터 결정계수 : 0.9804899950518966\n",
      "테스트 데이터 결정계수 : 0.9746459963987609\n"
     ]
    }
   ],
   "source": [
    "#이웃 개수를 3으로 설정\n",
    "knr.n_neighbors = 3\n",
    "\n",
    "#모델을 다시 훈련한다.\n",
    "knr.fit(train_input, train_target)\n",
    "print('훈련데이터 결정계수 :', knr.score(train_input, train_target))\n",
    "print('테스트 데이터 결정계수 :', knr.score(test_input, test_target))"
   ]
  },
  {
   "cell_type": "markdown",
   "id": "57d7212a",
   "metadata": {},
   "source": [
    "# K-최근접 이웃의 한계"
   ]
  },
  {
   "cell_type": "markdown",
   "id": "6b277711",
   "metadata": {},
   "source": [
    "K-최근접 이웃은 이웃의 개수를 통해 현재 데이터의 분류/예측을 판단한다.  \n",
    "하지만 예측하고자 하는 데이터의 그래프에서의 시각적인 위치가 다른 데이터와 너무 많이 떨어져 있다면?"
   ]
  },
  {
   "cell_type": "code",
   "execution_count": 11,
   "id": "ee3c3e62",
   "metadata": {},
   "outputs": [
    {
     "name": "stdout",
     "output_type": "stream",
     "text": [
      "[1033.33333333]\n"
     ]
    }
   ],
   "source": [
    "print(knr.predict([[50]]))"
   ]
  },
  {
   "cell_type": "code",
   "execution_count": 12,
   "id": "145acab8",
   "metadata": {},
   "outputs": [
    {
     "data": {
      "image/png": "[encoded data removed]",
      "text/plain": [
       "<Figure size 432x288 with 1 Axes>"
      ]
     },
     "metadata": {
      "needs_background": "light"
     },
     "output_type": "display_data"
    }
   ],
   "source": [
    "plt.scatter(train_input, train_target)\n",
    "plt.scatter(50,1033,marker=\"^\")\n",
    "plt.xlabel('Length')\n",
    "plt.ylabel('Weight')\n",
    "plt.show()"
   ]
  },
  {
   "cell_type": "markdown",
   "id": "45bd0463",
   "metadata": {},
   "source": [
    "우리가 훈련한 모델은 길이가 50cm인 농어의 무게가 1033g이라고 예측한다. 하지만 실제로는 훨씬 더 많이 나간다고 한다."
   ]
  },
  {
   "cell_type": "markdown",
   "id": "fea27f11",
   "metadata": {},
   "source": [
    "예측할 때 다른 데이터의 영향을 많이 받는 K-최근접 이웃 알고리즘의 특성상 동떨어진 데이터에 대한 예측의 정확도가 감소한다."
   ]
  },
  {
   "cell_type": "code",
   "execution_count": 13,
   "id": "04590239",
   "metadata": {},
   "outputs": [
    {
     "name": "stdout",
     "output_type": "stream",
     "text": [
      "[1033.33333333]\n"
     ]
    }
   ],
   "source": [
    "print(knr.predict([[100]]))"
   ]
  },
  {
   "cell_type": "markdown",
   "id": "8e9564d5",
   "metadata": {},
   "source": [
    "길이가 100cm인 농어의 무게도 50cm일때처럼 1033g으로 예측하는 걸 볼 수 있다."
   ]
  },
  {
   "cell_type": "markdown",
   "id": "6d1c52f9",
   "metadata": {},
   "source": [
    "# 선형 회귀"
   ]
  },
  {
   "cell_type": "code",
   "execution_count": 14,
   "id": "fcfd6aa8",
   "metadata": {},
   "outputs": [
    {
     "data": {
      "image/png": "[encoded data removed]",
      "text/plain": [
       "<Figure size 432x288 with 1 Axes>"
      ]
     },
     "metadata": {
      "needs_background": "light"
     },
     "output_type": "display_data"
    }
   ],
   "source": [
    "plt.scatter(train_input, train_target)\n",
    "plt.plot([15,50],[20,1200],'r-')\n",
    "plt.xlabel('Length')\n",
    "plt.ylabel('Weight')\n",
    "plt.show()"
   ]
  },
  {
   "cell_type": "markdown",
   "id": "3fd08cbb",
   "metadata": {},
   "source": [
    "**선형 회귀**란, 위 그래프에서와 같이 데이터를 가장 잘 표현하는 추세선을 찾는 알고리즘이다.  \n",
    "특성이 한개인 경우, 직선의 방정식. 즉, 일차함수의 형태로 추세선이 나타나는데, 일차함수는 기울기와 절편을 알면 그릴 수 있다.  "
   ]
  },
  {
   "cell_type": "markdown",
   "id": "64674a5a",
   "metadata": {},
   "source": [
    "**선형 회귀에서의 모델 훈련은, 데이터를 가장 잘 표현하는 추세선의 기울기와 절편을 찾는 과정이다.**"
   ]
  },
  {
   "cell_type": "code",
   "execution_count": 15,
   "id": "6e5b4026",
   "metadata": {},
   "outputs": [
    {
     "name": "stdout",
     "output_type": "stream",
     "text": [
      "[1241.83860323]\n"
     ]
    }
   ],
   "source": [
    "from sklearn.linear_model import LinearRegression\n",
    "lr = LinearRegression()\n",
    "\n",
    "lr.fit(train_input, train_target)\n",
    "\n",
    "print(lr.predict([[50]]))"
   ]
  },
  {
   "cell_type": "markdown",
   "id": "0bce5a07",
   "metadata": {},
   "source": [
    "선형 회귀 모델에서 예측한 길이가 50cm인 농어의 무게는 1241g이다.  \n",
    "K-최근접 이웃 알고리즘으로 훈련한 모델에서 예측했을 때보다는 합리적이다."
   ]
  },
  {
   "cell_type": "markdown",
   "id": "acb15dbd",
   "metadata": {},
   "source": [
    "이 모델에서 학습한 추세선의 기울기와 절편은 각각 lr 객체의 coef_와 intercept_에 저장되어 있다."
   ]
  },
  {
   "cell_type": "code",
   "execution_count": 16,
   "id": "fc5dff72",
   "metadata": {},
   "outputs": [
    {
     "name": "stdout",
     "output_type": "stream",
     "text": [
      "[39.01714496] -709.0186449535477\n"
     ]
    }
   ],
   "source": [
    "print(lr.coef_, lr.intercept_)"
   ]
  },
  {
   "cell_type": "code",
   "execution_count": 17,
   "id": "e60b2e3a",
   "metadata": {},
   "outputs": [
    {
     "data": {
      "image/png": "[encoded data removed]",
      "text/plain": [
       "<Figure size 432x288 with 1 Axes>"
      ]
     },
     "metadata": {
      "needs_background": "light"
     },
     "output_type": "display_data"
    }
   ],
   "source": [
    "plt.scatter(train_input, train_target)\n",
    "plt.plot([15,50],[15*39-709,50*39-709],'r-')\n",
    "plt.scatter(50,1241,marker=\"^\")\n",
    "plt.xlabel('Length')\n",
    "plt.ylabel('Weight')\n",
    "plt.show()"
   ]
  },
  {
   "cell_type": "code",
   "execution_count": 18,
   "id": "13939a5d",
   "metadata": {},
   "outputs": [
    {
     "name": "stdout",
     "output_type": "stream",
     "text": [
      "0.939846333997604\n",
      "0.8247503123313558\n"
     ]
    }
   ],
   "source": [
    "print(lr.score(train_input, train_target))\n",
    "print(lr.score(test_input, test_target))"
   ]
  },
  {
   "cell_type": "markdown",
   "id": "d3c42a13",
   "metadata": {},
   "source": [
    "선형 회귀로 학습한 모델을 평가해보니 전체적으로 점수가 낮게 나왔다.  \n",
    "농어 데이터 그래프를 보면 직선보다는 곡선에 가깝다.  \n",
    "그렇다면 직선(1차함수)을 찾는 것이 아니라 곡선(2차함수)을 찾는 것이 더 나을 것이다."
   ]
  },
  {
   "cell_type": "markdown",
   "id": "c8795f4c",
   "metadata": {},
   "source": [
    "$\n",
    "(농어 무게) = a \\times (농어 길이)^2 + b\\times(농어 길이)^2 + c\n",
    "$"
   ]
  },
  {
   "cell_type": "markdown",
   "id": "84a6062e",
   "metadata": {},
   "source": [
    "훈련 데이터에 농어의 길이를 제곱한 항이 추가되어야 한다."
   ]
  },
  {
   "cell_type": "code",
   "execution_count": 19,
   "id": "246f3541",
   "metadata": {},
   "outputs": [
    {
     "name": "stdout",
     "output_type": "stream",
     "text": [
      "(42, 2) (14, 2)\n"
     ]
    }
   ],
   "source": [
    "train_poly = np.column_stack((train_input**2, train_input))\n",
    "test_poly = np.column_stack((test_input**2, test_input))\n",
    "print(train_poly.shape, test_poly.shape)"
   ]
  },
  {
   "cell_type": "code",
   "execution_count": 20,
   "id": "541f193b",
   "metadata": {},
   "outputs": [
    {
     "data": {
      "text/plain": [
       "LinearRegression()"
      ]
     },
     "execution_count": 20,
     "metadata": {},
     "output_type": "execute_result"
    }
   ],
   "source": [
    "#모델을 다시 훈련한다.\n",
    "lr = LinearRegression()\n",
    "lr.fit(train_poly, train_target)"
   ]
  },
  {
   "cell_type": "markdown",
   "id": "5c1d936c",
   "metadata": {},
   "source": [
    "여기서도 lr.coef_ 와 lr.intercept_ 속성을 사용할 수 있다."
   ]
  },
  {
   "cell_type": "code",
   "execution_count": 21,
   "id": "7fbc35ea",
   "metadata": {},
   "outputs": [
    {
     "name": "stdout",
     "output_type": "stream",
     "text": [
      "[  1.01433211 -21.55792498] 116.05021078278264\n",
      "[1573.98423528]\n"
     ]
    }
   ],
   "source": [
    "print(lr.coef_, lr.intercept_)\n",
    "print(lr.predict([[50**2,50]]))"
   ]
  },
  {
   "cell_type": "markdown",
   "id": "a2b07b56",
   "metadata": {},
   "source": [
    "그래프에 우리가 학습한 곡선을 그려보자. 점을 이어서 그리면 곡선처럼 보일 것이다."
   ]
  },
  {
   "cell_type": "code",
   "execution_count": 22,
   "id": "593b1127",
   "metadata": {},
   "outputs": [
    {
     "data": {
      "image/png": "[encoded data removed]",
      "text/plain": [
       "<Figure size 432x288 with 1 Axes>"
      ]
     },
     "metadata": {
      "needs_background": "light"
     },
     "output_type": "display_data"
    }
   ],
   "source": [
    "point = np.arange(15,50)\n",
    "plt.scatter(train_input, train_target)\n",
    "plt.plot([15,50],[15*39-709,50*39-709],'r-')\n",
    "plt.plot(point, 1.01*point**2-21*point+116,'g-')\n",
    "plt.xlabel('Length')\n",
    "plt.ylabel('Weight')\n",
    "plt.show()"
   ]
  },
  {
   "cell_type": "code",
   "execution_count": 23,
   "id": "4ccad87a",
   "metadata": {},
   "outputs": [
    {
     "name": "stdout",
     "output_type": "stream",
     "text": [
      "0.9706807451768623\n",
      "0.9775935108325121\n"
     ]
    }
   ],
   "source": [
    "print(lr.score(train_poly, train_target))\n",
    "print(lr.score(test_poly, test_target))"
   ]
  },
  {
   "cell_type": "markdown",
   "id": "d11c8eb6",
   "metadata": {},
   "source": [
    "아까보다는 데이터의 추세를 더 잘 표현하는 것 같다. 다만 과소적합 현상이 나타나고 있다.  \n",
    "모델을 더 복잡하게 만들어야 하나보다."
   ]
  },
  {
   "cell_type": "markdown",
   "id": "9f047402",
   "metadata": {},
   "source": [
    "# 다변수 선형 회귀(다중 회귀)"
   ]
  },
  {
   "cell_type": "markdown",
   "id": "22896362",
   "metadata": {},
   "source": [
    "특징이 1개 일때, 선형 회귀 모델은 직선을 학습한다.  \n",
    "하지만 특성이 2개, 3개, 혹은 그 이상이 된다면?"
   ]
  },
  {
   "cell_type": "markdown",
   "id": "36cad180",
   "metadata": {},
   "source": [
    "농어의 무게를 예측할 때, 농어의 길이만 보는 것보다는 높이와 두께도 함께 보는 것이 더 정확할 것이다.  \n",
    "농어의 길이, 높이, 두께 이렇게 3개의 특성을 활용하여 무게를 예측하는 모델을 만들어보자."
   ]
  },
  {
   "cell_type": "markdown",
   "id": "42295bde",
   "metadata": {},
   "source": [
    "### 데이터 준비"
   ]
  },
  {
   "cell_type": "markdown",
   "id": "d2a1f8b6",
   "metadata": {},
   "source": [
    "특성이 3개로 늘어났기 때문에 데이터를 복붙하는 것도 번거롭다.  \n",
    "Pandas 라는 라이브러리를 사용하면 데이터 분석을 보다 쉽게 수행할 수 있다."
   ]
  },
  {
   "cell_type": "code",
   "execution_count": 26,
   "id": "abcc999f",
   "metadata": {},
   "outputs": [],
   "source": [
    "#라이브러리 임포트\n",
    "import pandas as pd"
   ]
  },
  {
   "cell_type": "code",
   "execution_count": 30,
   "id": "a3730ff6",
   "metadata": {},
   "outputs": [
    {
     "name": "stdout",
     "output_type": "stream",
     "text": [
      "[[ 8.4   2.11  1.41]\n",
      " [13.7   3.53  2.  ]\n",
      " [15.    3.82  2.43]\n",
      " [16.2   4.59  2.63]\n",
      " [17.4   4.59  2.94]]\n"
     ]
    }
   ],
   "source": [
    ",#웹에서 필요한 데이터를 다운 받는다.\n",
    "df = pd.read_csv(\"https://bit.ly/perch_csv_data\")\n",
    "perch_full = df.to_numpy()\n",
    "print(perch_full[:5])"
   ]
  },
  {
   "cell_type": "code",
   "execution_count": 33,
   "id": "37400093",
   "metadata": {},
   "outputs": [],
   "source": [
    "#데이터를 훈련 데이터와 테스트 데이터로 나눈다.\n",
    "train_input, test_input, train_target, test_target = train_test_split(perch_full, perch_weight, random_state=42)"
   ]
  },
  {
   "cell_type": "markdown",
   "id": "d51cbaa3",
   "metadata": {},
   "source": [
    "### 사이킷런의 변환기"
   ]
  },
  {
   "cell_type": "markdown",
   "id": "700107f8",
   "metadata": {},
   "source": [
    "사이킷런에서는 특성을 만들거나 전처리하기 위한 다양한 클래스를 제공한다.  \n",
    "두 개의 특성 2와 3으로 이루어진 샘플을 이용해 알아보자."
   ]
  },
  {
   "cell_type": "code",
   "execution_count": 36,
   "id": "373860da",
   "metadata": {},
   "outputs": [
    {
     "name": "stdout",
     "output_type": "stream",
     "text": [
      "[[1. 2. 3. 4. 6. 9.]]\n"
     ]
    }
   ],
   "source": [
    "from sklearn.preprocessing import PolynomialFeatures\n",
    "poly = PolynomialFeatures()\n",
    "poly.fit([[2,3]])\n",
    "print(poly.transform([[2,3]]))"
   ]
  },
  {
   "cell_type": "markdown",
   "id": "795f1328",
   "metadata": {},
   "source": [
    "특성 2와 3을 각각 제곱한 항인 4와 9가 추가되었고, 2와 3을 곱한 항인 6이 추가되었다.  \n",
    "PolynomialFeatures 클래스는 기본적으로 각 특성을 제곱한 항과, 특성끼리 서로 곱한 항을 추가한다."
   ]
  },
  {
   "cell_type": "code",
   "execution_count": 52,
   "id": "ebb9a66d",
   "metadata": {},
   "outputs": [
    {
     "name": "stdout",
     "output_type": "stream",
     "text": [
      "(42, 9)\n"
     ]
    }
   ],
   "source": [
    "#include_bias=False로 설정하면 절편을 무시한다.\n",
    "poly = PolynomialFeatures(include_bias=False)\n",
    "poly.fit(train_input)\n",
    "train_poly = poly.transform(train_input)\n",
    "test_poly = poly.transform(test_input)\n",
    "print(train_poly.shape)"
   ]
  },
  {
   "cell_type": "markdown",
   "id": "ee801b3f",
   "metadata": {},
   "source": [
    "총 9개의 특성이 만들어졌다."
   ]
  },
  {
   "cell_type": "code",
   "execution_count": 53,
   "id": "5d703eef",
   "metadata": {},
   "outputs": [
    {
     "data": {
      "text/plain": [
       "['x0', 'x1', 'x2', 'x0^2', 'x0 x1', 'x0 x2', 'x1^2', 'x1 x2', 'x2^2']"
      ]
     },
     "execution_count": 53,
     "metadata": {},
     "output_type": "execute_result"
    }
   ],
   "source": [
    "poly.get_feature_names()"
   ]
  },
  {
   "cell_type": "markdown",
   "id": "e3b86d4c",
   "metadata": {},
   "source": [
    "x0은 첫 번째 특성, x1은 두 번째 특성, x0x1은 첫 번째 특성과 두 번째 특성의 곱을 말한다.  \n",
    "이 데이터를 이용하여 다중 회귀 모델을 훈련시켜보자."
   ]
  },
  {
   "cell_type": "code",
   "execution_count": 54,
   "id": "49c1d2b7",
   "metadata": {},
   "outputs": [
    {
     "name": "stdout",
     "output_type": "stream",
     "text": [
      "0.9903183436982125\n",
      "0.9714559911594152\n"
     ]
    }
   ],
   "source": [
    "from sklearn.linear_model import LinearRegression\n",
    "lr = LinearRegression()\n",
    "lr.fit(train_poly, train_target)\n",
    "print(lr.score(train_poly, train_target))\n",
    "print(lr.score(test_poly, test_target))"
   ]
  },
  {
   "cell_type": "markdown",
   "id": "a77f0ef2",
   "metadata": {},
   "source": [
    "농어의 길이만 사용했을 때 발생했던 과소적합 문제가 해결되었다.  \n",
    "만약 여기서 3제곱, 4차항을 넣으면 어떻게 될까??"
   ]
  },
  {
   "cell_type": "code",
   "execution_count": 55,
   "id": "8d031415",
   "metadata": {},
   "outputs": [
    {
     "name": "stdout",
     "output_type": "stream",
     "text": [
      "(42, 55)\n"
     ]
    }
   ],
   "source": [
    "poly = PolynomialFeatures(degree=5, include_bias=False)\n",
    "poly.fit(train_input)\n",
    "train_poly = poly.transform(train_input)\n",
    "test_poly = poly.transform(test_input)\n",
    "print(train_poly.shape)"
   ]
  },
  {
   "cell_type": "code",
   "execution_count": 56,
   "id": "3040ecae",
   "metadata": {},
   "outputs": [
    {
     "name": "stdout",
     "output_type": "stream",
     "text": [
      "0.9999999999938117\n",
      "-144.40744536361765\n"
     ]
    }
   ],
   "source": [
    "lr.fit(train_poly, train_target)\n",
    "print(lr.score(train_poly, train_target))\n",
    "print(lr.score(test_poly, test_target))"
   ]
  },
  {
   "cell_type": "markdown",
   "id": "5118c2bc",
   "metadata": {},
   "source": [
    "훈련 세트에서는 완벽한 점수를 달성하였지만, 테스트 세트에서는 이상한 점수를 달성하였다.  \n",
    "특성의 개수를 늘리면 모델은 완벽해진다. 학습 세트에 대해서 거의 모든 정보를 학습할 수 있다.  \n",
    "하지만, 훈련세트에 과대적합이 되어서 테스트세트에서는 이상한 점수가 나오게 된 것이다."
   ]
  },
  {
   "cell_type": "markdown",
   "id": "3da6c8ca",
   "metadata": {},
   "source": [
    "## 규제"
   ]
  },
  {
   "cell_type": "markdown",
   "id": "1090bb8c",
   "metadata": {},
   "source": [
    "**규제**는 과대적합을 막는 방법 중의 하나로, 훈련 세트를 과도하게 훈련하지 못하도록 훼방을 놓는다."
   ]
  },
  {
   "cell_type": "markdown",
   "id": "5fea4d5a",
   "metadata": {},
   "source": [
    "특성의 스케일을 조정하는 것도 규제 방법 중의 하나이다."
   ]
  },
  {
   "cell_type": "code",
   "execution_count": 58,
   "id": "b9720a49",
   "metadata": {},
   "outputs": [],
   "source": [
    "from sklearn.preprocessing import StandardScaler\n",
    "ss = StandardScaler()\n",
    "ss.fit(train_poly)\n",
    "train_scaled = ss.transform(train_poly)\n",
    "test_scaled = ss.transform(test_poly)"
   ]
  },
  {
   "cell_type": "markdown",
   "id": "b5dc82de",
   "metadata": {},
   "source": [
    "## 릿지와 라쏘 회귀"
   ]
  },
  {
   "cell_type": "markdown",
   "id": "a3b76cb8",
   "metadata": {},
   "source": [
    "선형 회귀 모델에 규제를 추가한 모델을 **릿지** 또는 **라쏘**라고 부른다.  \n",
    "릿지 모델은 계수를 제곱한 값을 기준으로 규제를 적용하고,  \n",
    "라쏘 모델은 계수의 절댓값을 기준으로 규제를 적용한다."
   ]
  },
  {
   "cell_type": "markdown",
   "id": "56e813d3",
   "metadata": {},
   "source": [
    "### 릿지 회귀"
   ]
  },
  {
   "cell_type": "code",
   "execution_count": 59,
   "id": "d5204a25",
   "metadata": {},
   "outputs": [
    {
     "name": "stdout",
     "output_type": "stream",
     "text": [
      "0.9896101671037343\n",
      "0.9790693977615383\n"
     ]
    }
   ],
   "source": [
    " from sklearn.linear_model import Ridge\n",
    "ridge = Ridge()\n",
    "ridge.fit(train_scaled, train_target)\n",
    "print(ridge.score(train_scaled, train_target))\n",
    "print(ridge.score(test_scaled, test_target))"
   ]
  },
  {
   "cell_type": "markdown",
   "id": "269684b7",
   "metadata": {},
   "source": [
    "릿지와 라쏘 모델을 사용할때는 alpha 매개변수로 규제의 양을 임의로 조절할 수 있다.  \n",
    "이 alpha매개변수처럼 사람이 직접 지정해야 하는 파라미터를 **하이퍼 파라미터**라고 한다."
   ]
  },
  {
   "cell_type": "markdown",
   "id": "e377c485",
   "metadata": {},
   "source": [
    "적절한 alpha값을 찾기 위해서는 각 alpha값에서의 모델의 점수를 비교하면 된다.  \n",
    "훈련 세트의 점수와 테스트 세트의 점수가 가장 가까울 때가 최적의 alpha값이다.  \n",
    "그걸 알아보기 위해 그래프를 그려보자."
   ]
  },
  {
   "cell_type": "code",
   "execution_count": 60,
   "id": "0779bdf5",
   "metadata": {},
   "outputs": [],
   "source": [
    "train_score=[]\n",
    "test_score=[]\n",
    "alpha_list=[0.001, 0.01,0.1,1,10,100]\n",
    "for alpha in alpha_list:\n",
    "    ridge = Ridge(alpha=alpha)\n",
    "    ridge.fit(train_scaled, train_target)\n",
    "    train_score.append(ridge.score(train_scaled, train_target))\n",
    "    test_score.append(ridge.score(test_scaled, test_target))"
   ]
  },
  {
   "cell_type": "code",
   "execution_count": 61,
   "id": "ec926c64",
   "metadata": {},
   "outputs": [
    {
     "data": {
      "image/png": "[encoded data removed]",
      "text/plain": [
       "<Figure size 432x288 with 1 Axes>"
      ]
     },
     "metadata": {
      "needs_background": "light"
     },
     "output_type": "display_data"
    }
   ],
   "source": [
    "plt.plot(np.log10(alpha_list), train_score)\n",
    "plt.plot(np.log10(alpha_list), test_score)\n",
    "plt.xlabel('alpha')\n",
    "plt.ylabel(\"R^2\")\n",
    "plt.show()"
   ]
  },
  {
   "cell_type": "markdown",
   "id": "f2221cb6",
   "metadata": {},
   "source": [
    "log10(alpha)가 -1 일때. 즉, alpha값이 0.1일때가 최적의 alpha값이다."
   ]
  },
  {
   "cell_type": "code",
   "execution_count": 62,
   "id": "7407acb5",
   "metadata": {},
   "outputs": [
    {
     "name": "stdout",
     "output_type": "stream",
     "text": [
      "0.9903815817570368\n",
      "0.9827976465387016\n"
     ]
    }
   ],
   "source": [
    "ridge = Ridge(alpha=0.1)\n",
    "ridge.fit(train_scaled, train_target)\n",
    "print(ridge.score(train_scaled, train_target))\n",
    "print(ridge.score(test_scaled, test_target))"
   ]
  },
  {
   "cell_type": "markdown",
   "id": "48675512",
   "metadata": {},
   "source": [
    "### 라쏘 회귀"
   ]
  },
  {
   "cell_type": "code",
   "execution_count": 65,
   "id": "0f3345d4",
   "metadata": {},
   "outputs": [
    {
     "name": "stdout",
     "output_type": "stream",
     "text": [
      "0.989789897208096\n",
      "0.9800593698421884\n"
     ]
    }
   ],
   "source": [
    "from sklearn.linear_model import Lasso\n",
    "lasso = Lasso()\n",
    "lasso.fit(train_scaled, train_target)\n",
    "print(lasso.score(train_scaled, train_target))\n",
    "print(lasso.score(test_scaled, test_target))"
   ]
  },
  {
   "cell_type": "code",
   "execution_count": 66,
   "id": "f5a36ba6",
   "metadata": {
    "scrolled": true
   },
   "outputs": [
    {
     "name": "stderr",
     "output_type": "stream",
     "text": [
      "C:\\ProgramData\\Anaconda3\\lib\\site-packages\\sklearn\\linear_model\\_coordinate_descent.py:530: ConvergenceWarning: Objective did not converge. You might want to increase the number of iterations. Duality gap: 23364.075969939724, tolerance: 518.2793833333334\n",
      "  model = cd_fast.enet_coordinate_descent(\n",
      "C:\\ProgramData\\Anaconda3\\lib\\site-packages\\sklearn\\linear_model\\_coordinate_descent.py:530: ConvergenceWarning: Objective did not converge. You might want to increase the number of iterations. Duality gap: 20251.975097475362, tolerance: 518.2793833333334\n",
      "  model = cd_fast.enet_coordinate_descent(\n",
      "C:\\ProgramData\\Anaconda3\\lib\\site-packages\\sklearn\\linear_model\\_coordinate_descent.py:530: ConvergenceWarning: Objective did not converge. You might want to increase the number of iterations. Duality gap: 806.2370926335934, tolerance: 518.2793833333334\n",
      "  model = cd_fast.enet_coordinate_descent(\n"
     ]
    }
   ],
   "source": [
    "train_score=[]\n",
    "test_score=[]\n",
    "alpha_list=[0.001, 0.01,0.1,1,10,100]\n",
    "for alpha in alpha_list:\n",
    "    lasso = Lasso(alpha=alpha)\n",
    "    lasso.fit(train_scaled, train_target)\n",
    "    train_score.append(lasso.score(train_scaled, train_target))\n",
    "    test_score.append(lasso.score(test_scaled, test_target))"
   ]
  },
  {
   "cell_type": "markdown",
   "id": "5152d315",
   "metadata": {},
   "source": [
    "라쏘 모델을 훈련할 때, 최적의 계수를 찾기 위해 반복적인 계산을 수행하는데, 이 반복의 횟수가 부족할 때 Convergence Warning이라는 에러가 뜰 수 있다. 반복횟수를 충분히 늘리면 에러가 발생하지 않는다."
   ]
  },
  {
   "cell_type": "code",
   "execution_count": 67,
   "id": "619c673d",
   "metadata": {},
   "outputs": [
    {
     "data": {
      "image/png": "[encoded data removed]",
      "text/plain": [
       "<Figure size 432x288 with 1 Axes>"
      ]
     },
     "metadata": {
      "needs_background": "light"
     },
     "output_type": "display_data"
    }
   ],
   "source": [
    "plt.plot(np.log10(alpha_list), train_score)\n",
    "plt.plot(np.log10(alpha_list), test_score)\n",
    "plt.xlabel('alpha')\n",
    "plt.ylabel(\"R^2\")\n",
    "plt.show()"
   ]
  },
  {
   "cell_type": "markdown",
   "id": "6af0dc99",
   "metadata": {},
   "source": [
    "라쏘 모델에서의 최적의 alpha값은 10이다."
   ]
  },
  {
   "cell_type": "code",
   "execution_count": 68,
   "id": "9791274a",
   "metadata": {},
   "outputs": [
    {
     "name": "stdout",
     "output_type": "stream",
     "text": [
      "0.9888067471131867\n",
      "0.9824470598706695\n"
     ]
    }
   ],
   "source": [
    "lasso = Lasso(alpha=10)\n",
    "lasso.fit(train_scaled, train_target)\n",
    "print(lasso.score(train_scaled, train_target))\n",
    "print(lasso.score(test_scaled, test_target))"
   ]
  },
  {
   "cell_type": "code",
   "execution_count": null,
   "id": "8b5c3e07",
   "metadata": {},
   "outputs": [],
   "source": []
  }
 ],
 "metadata": {
  "kernelspec": {
   "display_name": "Python 3",
   "language": "python",
   "name": "python3"
  },
  "language_info": {
   "codemirror_mode": {
    "name": "ipython",
    "version": 3
   },
   "file_extension": ".py",
   "mimetype": "text/x-python",
   "name": "python",
   "nbconvert_exporter": "python",
   "pygments_lexer": "ipython3",
   "version": "3.8.8"
  }
 },
 "nbformat": 4,
 "nbformat_minor": 5
}
