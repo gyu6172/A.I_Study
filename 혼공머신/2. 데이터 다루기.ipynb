{
 "cells": [
  {
   "cell_type": "markdown",
   "id": "3204a24f",
   "metadata": {},
   "source": [
    "# 2. 데이터 다루기"
   ]
  },
  {
   "cell_type": "markdown",
   "id": "ec527157",
   "metadata": {},
   "source": [
    "- 지도 학습 : 입력과 타깃이 존재, 이 두 데이터로 훈련을 진행함.\n",
    "- 비지도 학습 : 입력데이터만 존재한다."
   ]
  },
  {
   "cell_type": "code",
   "execution_count": 25,
   "id": "8460552f",
   "metadata": {},
   "outputs": [
    {
     "name": "stdout",
     "output_type": "stream",
     "text": [
      "49\n",
      "49\n"
     ]
    }
   ],
   "source": [
    "fish_length = [25.4, 26.3, 26.5, 29.0, 29.0, 29.7, 29.7, 30.0, 30.0, 30.7, 31.0, 31.0, \n",
    "                31.5, 32.0, 32.0, 32.0, 33.0, 33.0, 33.5, 33.5, 34.0, 34.0, 34.5, 35.0, \n",
    "                35.0, 35.0, 35.0, 36.0, 36.0, 37.0, 38.5, 38.5, 39.5, 41.0, 41.0, 9.8, \n",
    "                10.5, 10.6, 11.0, 11.2, 11.3, 11.8, 11.8, 12.0, 12.2, 12.4, 13.0, 14.3, 15.0]\n",
    "fish_weight = [242.0, 290.0, 340.0, 363.0, 430.0, 450.0, 500.0, 390.0, 450.0, 500.0, 475.0, 500.0, \n",
    "                500.0, 340.0, 600.0, 600.0, 700.0, 700.0, 610.0, 650.0, 575.0, 685.0, 620.0, 680.0, \n",
    "                700.0, 725.0, 720.0, 714.0, 850.0, 1000.0, 920.0, 955.0, 925.0, 975.0, 950.0, 6.7, \n",
    "                7.5, 7.0, 9.7, 9.8, 8.7, 10.0, 9.9, 9.8, 12.2, 13.4, 12.2, 19.7, 19.9]\n",
    "print(len(fish_length))\n",
    "print(len(fish_weight))"
   ]
  },
  {
   "cell_type": "markdown",
   "id": "34a60a39",
   "metadata": {},
   "source": [
    "물고기 49마리의 길이, 무게가 저장된 데이터이다. 이 데이터는 모델을 훈련시킬 때만 사용한다."
   ]
  },
  {
   "cell_type": "markdown",
   "id": "089b4611",
   "metadata": {},
   "source": [
    "이제 이 데이터를 각 생선의 길이와 무게를 하나의 리스트로 담은 2차원 리스트로 만든다."
   ]
  },
  {
   "cell_type": "code",
   "execution_count": 26,
   "id": "333c3a04",
   "metadata": {},
   "outputs": [
    {
     "name": "stdout",
     "output_type": "stream",
     "text": [
      "[[25.4, 242.0], [26.3, 290.0], [26.5, 340.0], [29.0, 363.0], [29.0, 430.0]]\n"
     ]
    }
   ],
   "source": [
    "fish_data = [[l,w] for l,w in zip(fish_length, fish_weight)]\n",
    "fish_target = [1]*35 + [0]*14\n",
    "print(fish_data[:5])"
   ]
  },
  {
   "cell_type": "markdown",
   "id": "af139c7a",
   "metadata": {},
   "source": [
    "fish_data는 49마리의 생선 정보가 담긴 데이터이고, fish_target은 각각의 데이터가 어떤 생선을 가리키는지 나타내는 정보이다.  \n",
    "1은 도미, 0은 빙어"
   ]
  },
  {
   "cell_type": "markdown",
   "id": "4dd0ce81",
   "metadata": {},
   "source": [
    "입력데이터와 타깃을 만들 때 위와 같이 해도 되지만,  \n",
    "넘파이에서는 여러가지 편리한 함수를 제공한다.  \n",
    "또한, 훈련데이터처럼 많은 수의 리스트를 다룰 때는 넘파이 배열로 데이터를 다루는 것이 파이썬 내장 리스트로 담는 것보다 효율적이다.  "
   ]
  },
  {
   "cell_type": "code",
   "execution_count": 27,
   "id": "620c1dfe",
   "metadata": {},
   "outputs": [
    {
     "name": "stdout",
     "output_type": "stream",
     "text": [
      "[[ 25.4 242. ]\n",
      " [ 26.3 290. ]\n",
      " [ 26.5 340. ]\n",
      " [ 29.  363. ]\n",
      " [ 29.  430. ]]\n"
     ]
    }
   ],
   "source": [
    "import numpy as np\n",
    "fish_data = np.column_stack((fish_length, fish_weight))\n",
    "fish_target = np.array(fish_target)\n",
    "print(fish_data[:5])"
   ]
  },
  {
   "cell_type": "markdown",
   "id": "50613c11",
   "metadata": {},
   "source": [
    "np.column_stack 함수는 리스트를 세로로 세운 뒤 합치는 함수이고(따라서, 리스트의 길이가 같아야 한다.),  \n",
    "np.concatenate 함수는 리스트를 가로로 세운 뒤 함치는 함수이다.(길이 달라도 된다.)"
   ]
  },
  {
   "cell_type": "markdown",
   "id": "f375ffe3",
   "metadata": {},
   "source": [
    "이 예시에서 모델을 훈련시킬때는 사이킷런 패키지의 K-최근접 이웃 알고리즘을 사용한다.  \n",
    "이 알고리즘은 예측과 분류 문제에서 사용할 수 있다.  \n",
    "예측 문제에서 사용할 경우, 예측하고자 하는 데이터와 가장 가까운 데이터들의 평균으로 예측하고,  \n",
    "분류 문제에서 사용할 경우, 분류하고자 하는 데이터와 가장 가까운 데이터중에서 가장 많은 레이블로 분류한다."
   ]
  },
  {
   "cell_type": "code",
   "execution_count": 28,
   "id": "1d5e29b5",
   "metadata": {},
   "outputs": [],
   "source": [
    "from sklearn.neighbors import KNeighborsClassifier\n",
    "kn = KNeighborsClassifier()\n",
    "\n",
    "##kn49 = KNeighborsClassifier(n_neighbors=49)\n",
    "##이 코드는 가장 가까운 49개의 이웃을 검사하게 한다. 기본값은 5이다."
   ]
  },
  {
   "cell_type": "markdown",
   "id": "0961a3e3",
   "metadata": {},
   "source": [
    "모델을 훈련시킬 때는 훈련데이터와 테스트 데이터를 분리해야 한다.  \n",
    "훈련데이터로 테스트를 진행하면 답지를 이미 보고 시험을 치는 것과 같다. 그렇게 본 시험의 점수는 절대 믿을 수 없다."
   ]
  },
  {
   "cell_type": "markdown",
   "id": "286cb553",
   "metadata": {},
   "source": [
    "사이킷런에서는 훈련데이터와 테스트 데이터로 나누는 함수를 제공한다."
   ]
  },
  {
   "cell_type": "code",
   "execution_count": 42,
   "id": "bfc827f0",
   "metadata": {},
   "outputs": [],
   "source": [
    "from sklearn.model_selection import train_test_split\n",
    "train_input, test_input, train_target, test_target = train_test_split(fish_data, fish_target, random_state=42, stratify=fish_target)"
   ]
  },
  {
   "cell_type": "markdown",
   "id": "89a1ecd9",
   "metadata": {},
   "source": [
    "train_test_split()함수를 사용하면 데이터를 훈련데이터와 테스트 데이터로 나눌 수 있다.  \n",
    "random_state는 데이터를 무작위로 섞기 위해 설정하는 랜덤 시드 값이다.  \n",
    "stratify는 클래스 비율에 맞게 데이터를 나눠준다."
   ]
  },
  {
   "cell_type": "code",
   "execution_count": 43,
   "id": "25a6f3a6",
   "metadata": {},
   "outputs": [
    {
     "name": "stdout",
     "output_type": "stream",
     "text": [
      "(36, 2)\n",
      "(36,)\n"
     ]
    }
   ],
   "source": [
    "print(train_input.shape)\n",
    "print(train_target.shape)"
   ]
  },
  {
   "cell_type": "markdown",
   "id": "1873e417",
   "metadata": {},
   "source": [
    "훈련데이터와 테스트데이터를 시각화하면 다음과 같다."
   ]
  },
  {
   "cell_type": "code",
   "execution_count": 44,
   "id": "9c2ea378",
   "metadata": {},
   "outputs": [
    {
     "data": {
      "image/png": "[encoded data removed]",
      "text/plain": [
       "<Figure size 432x288 with 1 Axes>"
      ]
     },
     "metadata": {
      "needs_background": "light"
     },
     "output_type": "display_data"
    }
   ],
   "source": [
    "import matplotlib.pyplot as plt\n",
    "plt.scatter(train_input[:,0], train_input[:,1])\n",
    "plt.scatter(test_input[:,0], test_input[:,1])\n",
    "plt.xlabel('length')\n",
    "plt.ylabel('weight')\n",
    "plt.show()"
   ]
  },
  {
   "cell_type": "markdown",
   "id": "b1ad7aed",
   "metadata": {},
   "source": [
    "kn.fit()함수를 사용하면 모델을 훈련시킬 수 있다.  \n",
    "kn.score()함수를 사용하면 테스트데이터로 모델을 평가할 수 있다."
   ]
  },
  {
   "cell_type": "code",
   "execution_count": 49,
   "id": "5db0818e",
   "metadata": {},
   "outputs": [
    {
     "data": {
      "text/plain": [
       "1.0"
      ]
     },
     "execution_count": 49,
     "metadata": {},
     "output_type": "execute_result"
    }
   ],
   "source": [
    "kn.fit(train_input, train_target)\n",
    "kn.score(test_input, test_target)"
   ]
  },
  {
   "cell_type": "markdown",
   "id": "113fa6a5",
   "metadata": {},
   "source": [
    "### 데이터 전처리하기"
   ]
  },
  {
   "cell_type": "markdown",
   "id": "f5bae585",
   "metadata": {},
   "source": [
    "길이가 25이고, 무게가 150인 생선이 있다. 이 생선을 예측해보자. (물론, 우리는 이 생선이 도미(레이블 : 1)라는 것을 알고 있다.)"
   ]
  },
  {
   "cell_type": "code",
   "execution_count": 51,
   "id": "78a644a9",
   "metadata": {},
   "outputs": [
    {
     "name": "stdout",
     "output_type": "stream",
     "text": [
      "[0]\n"
     ]
    }
   ],
   "source": [
    "print(kn.predict([[25,150]]))"
   ]
  },
  {
   "cell_type": "markdown",
   "id": "10dc2324",
   "metadata": {},
   "source": [
    "하지만 우리가 훈련시킨 모델은 이 생선은 빙어(레이블 : 0)라고 예측한다. 무엇이 잘못되었을까??"
   ]
  },
  {
   "cell_type": "markdown",
   "id": "9d1810ca",
   "metadata": {},
   "source": [
    "새로운 생선 데이터를 한번 시각화 해보자."
   ]
  },
  {
   "cell_type": "code",
   "execution_count": 52,
   "id": "fa5680a0",
   "metadata": {},
   "outputs": [
    {
     "data": {
      "image/png": "[encoded data removed]",
      "text/plain": [
       "<Figure size 432x288 with 1 Axes>"
      ]
     },
     "metadata": {
      "needs_background": "light"
     },
     "output_type": "display_data"
    }
   ],
   "source": [
    "import matplotlib.pyplot as plt\n",
    "plt.scatter(train_input[:,0], train_input[:,1])\n",
    "plt.scatter(25,150, marker=\"^\")\n",
    "plt.xlabel('length')\n",
    "plt.ylabel('weight')\n",
    "plt.show()"
   ]
  },
  {
   "cell_type": "markdown",
   "id": "9da2b1df",
   "metadata": {},
   "source": [
    "이 데이터는 분명 빙어데이터들보다, 도미 데이터들이 더 가까워보인다. 무엇이 잘못되었을까?"
   ]
  },
  {
   "cell_type": "markdown",
   "id": "dcc95f2a",
   "metadata": {},
   "source": [
    "그 이유는 범위의 차이에 있다. 무게(weight)는 범위가 0-1000이고, 길이(length)는 범위가 10-40이다.  \n",
    "그래프 상에서는 가까워 보일지 몰라도 실제 길이는 아닐 수도 있다.  \n",
    "그렇기 때문에 우리는 모든 특성의 범위를 비슷하게 맞춰주는 작업인 **데이터 전처리** 작업을 해야 한다."
   ]
  },
  {
   "cell_type": "markdown",
   "id": "aa531be8",
   "metadata": {},
   "source": [
    "가장 많이 사용하는 방법은 **표준점수**이다.  \n",
    "계산하는 방법은 평균을 빼고 표준편차로 나누어주면 된다. 넘파이에서는 두 함수를 모두 제공한다."
   ]
  },
  {
   "cell_type": "code",
   "execution_count": 56,
   "id": "b592c973",
   "metadata": {},
   "outputs": [
    {
     "name": "stdout",
     "output_type": "stream",
     "text": [
      "[ 27.29722222 454.09722222] [  9.98244253 323.29893931]\n"
     ]
    }
   ],
   "source": [
    "mean = np.mean(train_input, axis=0)\n",
    "std = np.std(train_input, axis=0)\n",
    "print(mean, std)"
   ]
  },
  {
   "cell_type": "code",
   "execution_count": 57,
   "id": "ad71ab12",
   "metadata": {},
   "outputs": [],
   "source": [
    "train_input = (train_input-mean)/std"
   ]
  },
  {
   "cell_type": "code",
   "execution_count": 58,
   "id": "597e3e1d",
   "metadata": {},
   "outputs": [
    {
     "data": {
      "image/png": "[encoded data removed]",
      "text/plain": [
       "<Figure size 432x288 with 1 Axes>"
      ]
     },
     "metadata": {
      "needs_background": "light"
     },
     "output_type": "display_data"
    }
   ],
   "source": [
    "import matplotlib.pyplot as plt\n",
    "new = ([25,150]-mean)/std\n",
    "plt.scatter(train_input[:,0], train_input[:,1])\n",
    "plt.scatter(new[0],new[1], marker=\"^\")\n",
    "plt.xlabel('length')\n",
    "plt.ylabel('weight')\n",
    "plt.show()"
   ]
  },
  {
   "cell_type": "markdown",
   "id": "28abe43b",
   "metadata": {},
   "source": [
    "데이터 전처리가 완료되었다. 이제 모델을 다시 훈련해보자."
   ]
  },
  {
   "cell_type": "code",
   "execution_count": 59,
   "id": "d6addcf8",
   "metadata": {},
   "outputs": [
    {
     "data": {
      "text/plain": [
       "KNeighborsClassifier()"
      ]
     },
     "execution_count": 59,
     "metadata": {},
     "output_type": "execute_result"
    }
   ],
   "source": [
    "kn.fit(train_input, train_target)"
   ]
  },
  {
   "cell_type": "markdown",
   "id": "80f57902",
   "metadata": {},
   "source": [
    "테스트 데이터 역시 같은 방법으로 전처리를 해주어야 한다."
   ]
  },
  {
   "cell_type": "code",
   "execution_count": 60,
   "id": "2abb9557",
   "metadata": {},
   "outputs": [],
   "source": [
    "test_input = (test_input - mean)/std"
   ]
  },
  {
   "cell_type": "code",
   "execution_count": 61,
   "id": "44b6a3ca",
   "metadata": {},
   "outputs": [
    {
     "data": {
      "text/plain": [
       "1.0"
      ]
     },
     "execution_count": 61,
     "metadata": {},
     "output_type": "execute_result"
    }
   ],
   "source": [
    "kn.score(test_input, test_target)"
   ]
  },
  {
   "cell_type": "code",
   "execution_count": 62,
   "id": "306ef863",
   "metadata": {},
   "outputs": [
    {
     "name": "stdout",
     "output_type": "stream",
     "text": [
      "[1]\n"
     ]
    }
   ],
   "source": [
    "print(kn.predict([new]))"
   ]
  }
 ],
 "metadata": {
  "kernelspec": {
   "display_name": "Python 3",
   "language": "python",
   "name": "python3"
  },
  "language_info": {
   "codemirror_mode": {
    "name": "ipython",
    "version": 3
   },
   "file_extension": ".py",
   "mimetype": "text/x-python",
   "name": "python",
   "nbconvert_exporter": "python",
   "pygments_lexer": "ipython3",
   "version": "3.8.8"
  }
 },
 "nbformat": 4,
 "nbformat_minor": 5
}
