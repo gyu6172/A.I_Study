{
 "cells": [
  {
   "cell_type": "markdown",
   "id": "3204a24f",
   "metadata": {},
   "source": [
    "# 2. 데이터 다루기"
   ]
  },
  {
   "cell_type": "markdown",
   "id": "ec527157",
   "metadata": {},
   "source": [
    "- 지도 학습 : 입력과 타깃이 존재, 이 두 데이터로 훈련을 진행함.\n",
    "- 비지도 학습 : 입력데이터만 존재한다."
   ]
  },
  {
   "cell_type": "code",
   "execution_count": 3,
   "id": "8460552f",
   "metadata": {},
   "outputs": [
    {
     "name": "stdout",
     "output_type": "stream",
     "text": [
      "49\n",
      "49\n"
     ]
    }
   ],
   "source": [
    "fish_length = [25.4, 26.3, 26.5, 29.0, 29.0, 29.7, 29.7, 30.0, 30.0, 30.7, 31.0, 31.0, \n",
    "                31.5, 32.0, 32.0, 32.0, 33.0, 33.0, 33.5, 33.5, 34.0, 34.0, 34.5, 35.0, \n",
    "                35.0, 35.0, 35.0, 36.0, 36.0, 37.0, 38.5, 38.5, 39.5, 41.0, 41.0, 9.8, \n",
    "                10.5, 10.6, 11.0, 11.2, 11.3, 11.8, 11.8, 12.0, 12.2, 12.4, 13.0, 14.3, 15.0]\n",
    "fish_weight = [242.0, 290.0, 340.0, 363.0, 430.0, 450.0, 500.0, 390.0, 450.0, 500.0, 475.0, 500.0, \n",
    "                500.0, 340.0, 600.0, 600.0, 700.0, 700.0, 610.0, 650.0, 575.0, 685.0, 620.0, 680.0, \n",
    "                700.0, 725.0, 720.0, 714.0, 850.0, 1000.0, 920.0, 955.0, 925.0, 975.0, 950.0, 6.7, \n",
    "                7.5, 7.0, 9.7, 9.8, 8.7, 10.0, 9.9, 9.8, 12.2, 13.4, 12.2, 19.7, 19.9]\n",
    "print(len(fish_length))\n",
    "print(len(fish_weight))"
   ]
  },
  {
   "cell_type": "markdown",
   "id": "34a60a39",
   "metadata": {},
   "source": [
    "물고기 49마리의 길이, 무게가 저장된 데이터이다. 이 데이터는 모델을 훈련시킬 때만 사용한다."
   ]
  },
  {
   "cell_type": "markdown",
   "id": "089b4611",
   "metadata": {},
   "source": [
    "이제 이 데이터를 각 생선의 길이와 무게를 하나의 리스트로 담은 2차원 리스트로 만든다."
   ]
  },
  {
   "cell_type": "code",
   "execution_count": 4,
   "id": "333c3a04",
   "metadata": {},
   "outputs": [],
   "source": [
    "fish_data = [[l,w] for l,w in zip(fish_length, fish_weight)]\n",
    "fish_target = [1]*35 + [0]*14"
   ]
  },
  {
   "cell_type": "markdown",
   "id": "af139c7a",
   "metadata": {},
   "source": [
    "fish_data는 49마리의 생선 정보가 담긴 데이터이고, fish_target은 각각의 데이터가 어떤 생선을 가리키는지 나타내는 정보이다.  \n",
    "1은 도미, 0은 빙어"
   ]
  },
  {
   "cell_type": "markdown",
   "id": "4dd0ce81",
   "metadata": {},
   "source": [
    "입력데이터와 타깃을 만들 때 위와 같이 해도 되지만,  \n",
    "넘파이에서는 여러가지 편리한 함수를 제공한다."
   ]
  },
  {
   "cell_type": "code",
   "execution_count": 7,
   "id": "620c1dfe",
   "metadata": {},
   "outputs": [
    {
     "name": "stdout",
     "output_type": "stream",
     "text": [
      "[[ 25.4 242. ]\n",
      " [ 26.3 290. ]\n",
      " [ 26.5 340. ]\n",
      " [ 29.  363. ]\n",
      " [ 29.  430. ]]\n"
     ]
    }
   ],
   "source": [
    "import numpy as np\n",
    "fish_data = np.column_stack((fish_length, fish_weight))\n",
    "print(fish_data[:5])"
   ]
  },
  {
   "cell_type": "markdown",
   "id": "50613c11",
   "metadata": {},
   "source": [
    "np.column_stack 함수는 리스트를 세로로 세운 뒤, "
   ]
  },
  {
   "cell_type": "markdown",
   "id": "f375ffe3",
   "metadata": {},
   "source": [
    "이 예시에서 모델을 훈련시킬때는 사이킷런 패키지의 K-최근접 이웃 알고리즘을 사용한다.  \n",
    "어떤 데이터에 대한 레이블을 예측할 때, 그 데이터와 가장 가까운 데이터 중에서 더 많은 것을 선택하는 알고리즘이다."
   ]
  },
  {
   "cell_type": "code",
   "execution_count": 13,
   "id": "1d5e29b5",
   "metadata": {},
   "outputs": [],
   "source": [
    "from sklearn.neighbors import KNeighborsClassifier\n",
    "kn = KNeighborsClassifier()\n"
   ]
  },
  {
   "cell_type": "markdown",
   "id": "0961a3e3",
   "metadata": {},
   "source": [
    "모델을 훈련시킬 때는 훈련데이터와 테스트 데이터를 분리해야 한다.  \n",
    "훈련데이터로 테스트를 진행하면 답지를 이미 보고 시험을 치는 것과 같다. 그렇게 본 시험의 점수는 절대 믿을 수 없다."
   ]
  },
  {
   "cell_type": "markdown",
   "id": "286cb553",
   "metadata": {},
   "source": [
    "사이킷런에서는 훈련데이터와 테스트 데이터로 나누는 함수를 제공한다."
   ]
  },
  {
   "cell_type": "code",
   "execution_count": 15,
   "id": "bfc827f0",
   "metadata": {},
   "outputs": [],
   "source": [
    "from sklearn.model_selection import train_test_split\n",
    "train_input, test_input, train_target, test_target = train_test_split(fish_data, fish_target, random_state=42)"
   ]
  },
  {
   "cell_type": "markdown",
   "id": "89a1ecd9",
   "metadata": {},
   "source": [
    "train_test_split()함수를 사용하면 데이터를 훈련데이터와 테스트 데이터로 나눌 수 있다."
   ]
  },
  {
   "cell_type": "code",
   "execution_count": null,
   "id": "25a6f3a6",
   "metadata": {},
   "outputs": [],
   "source": []
  }
 ],
 "metadata": {
  "kernelspec": {
   "display_name": "Python 3",
   "language": "python",
   "name": "python3"
  },
  "language_info": {
   "codemirror_mode": {
    "name": "ipython",
    "version": 3
   },
   "file_extension": ".py",
   "mimetype": "text/x-python",
   "name": "python",
   "nbconvert_exporter": "python",
   "pygments_lexer": "ipython3",
   "version": "3.8.8"
  }
 },
 "nbformat": 4,
 "nbformat_minor": 5
}
